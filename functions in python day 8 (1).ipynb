{
 "cells": [
  {
   "cell_type": "markdown",
   "id": "883b5550",
   "metadata": {},
   "source": [
    "# build  in functions"
   ]
  },
  {
   "cell_type": "code",
   "execution_count": 1,
   "id": "4db77730",
   "metadata": {},
   "outputs": [
    {
     "data": {
      "text/plain": [
       "65"
      ]
     },
     "execution_count": 1,
     "metadata": {},
     "output_type": "execute_result"
    }
   ],
   "source": [
    "#function is a block of code written one and can use multiple time \n",
    "#by calling it\n",
    "\n",
    "max(12,11,1,65)"
   ]
  },
  {
   "cell_type": "code",
   "execution_count": 6,
   "id": "974dca5c",
   "metadata": {},
   "outputs": [],
   "source": [
    "l=(22,34,23,54,55,66,4,312,3,45,6)\n"
   ]
  },
  {
   "cell_type": "code",
   "execution_count": 7,
   "id": "f32f076c",
   "metadata": {},
   "outputs": [
    {
     "data": {
      "text/plain": [
       "11"
      ]
     },
     "execution_count": 7,
     "metadata": {},
     "output_type": "execute_result"
    }
   ],
   "source": [
    "len(l)"
   ]
  },
  {
   "cell_type": "code",
   "execution_count": null,
   "id": "3027c3e2",
   "metadata": {},
   "outputs": [],
   "source": []
  },
  {
   "cell_type": "markdown",
   "id": "19c3b6f4",
   "metadata": {},
   "source": [
    "# user defined functions"
   ]
  },
  {
   "cell_type": "code",
   "execution_count": 2,
   "id": "12b47b4e",
   "metadata": {},
   "outputs": [],
   "source": [
    "# defined or created by user\n",
    "#ypu use it multiple time after writing code one time\n"
   ]
  },
  {
   "cell_type": "code",
   "execution_count": 3,
   "id": "c8832e5f",
   "metadata": {},
   "outputs": [],
   "source": [
    "#def keyword (define)"
   ]
  },
  {
   "cell_type": "code",
   "execution_count": 5,
   "id": "8c3d3c3c",
   "metadata": {},
   "outputs": [
    {
     "name": "stdout",
     "output_type": "stream",
     "text": [
      "enter 1st num:2\n",
      "enter 2nd num:3\n",
      "addition is:  5\n"
     ]
    }
   ],
   "source": [
    "def add():\n",
    "    a=int(input(\"enter 1st num:\"))\n",
    "    b=int(input(\"enter 2nd num:\"))\n",
    "    print(\"addition is: \",a+b)\n",
    "    \n",
    "add()   "
   ]
  },
  {
   "cell_type": "code",
   "execution_count": 8,
   "id": "c03276b9",
   "metadata": {},
   "outputs": [
    {
     "name": "stdout",
     "output_type": "stream",
     "text": [
      "enter 1st num:4\n",
      "enter 2nd num:34\n",
      "addition is:  38\n"
     ]
    }
   ],
   "source": [
    "add()"
   ]
  },
  {
   "cell_type": "code",
   "execution_count": null,
   "id": "79c114f4",
   "metadata": {},
   "outputs": [],
   "source": [
    "def evenodd():\n",
    "    a=int(input(\"enter number\"))\n",
    "    if a%2==0:\n",
    "        print(\"Even\")\n",
    "    else:\n",
    "        print(\"odd\")\n",
    "        \n",
    "evenodd()"
   ]
  },
  {
   "cell_type": "markdown",
   "id": "bc834956",
   "metadata": {},
   "source": [
    "Function even name\n"
   ]
  },
  {
   "cell_type": "code",
   "execution_count": 2,
   "id": "4bdb477e",
   "metadata": {},
   "outputs": [
    {
     "name": "stdout",
     "output_type": "stream",
     "text": [
      "enter first name:gayu\n",
      "enter last name:pawar\n",
      "name:  gayu   pawar\n"
     ]
    }
   ],
   "source": [
    "def name():\n",
    "    a=(input(\"enter first name:\"))\n",
    "    b=(input(\"enter last name:\"))\n",
    "    print(\"name: \",a,\" \",b)\n",
    "    \n",
    "name()"
   ]
  },
  {
   "cell_type": "markdown",
   "id": "26c4fc1a",
   "metadata": {},
   "source": [
    "# with arguments and without return"
   ]
  },
  {
   "cell_type": "code",
   "execution_count": 6,
   "id": "2c0aa7fc",
   "metadata": {},
   "outputs": [
    {
     "name": "stdout",
     "output_type": "stream",
     "text": [
      "11\n"
     ]
    }
   ],
   "source": [
    "#fixed lenght argument\n",
    "\n",
    "def addition(x,y):\n",
    "    print(x+y)\n",
    "    \n",
    "addition(5,6)"
   ]
  },
  {
   "cell_type": "code",
   "execution_count": 7,
   "id": "0e395ec0",
   "metadata": {},
   "outputs": [
    {
     "name": "stdout",
     "output_type": "stream",
     "text": [
      "33\n"
     ]
    }
   ],
   "source": [
    "addition(y=4,x=29)"
   ]
  },
  {
   "cell_type": "code",
   "execution_count": 11,
   "id": "611dbb31",
   "metadata": {},
   "outputs": [
    {
     "name": "stdout",
     "output_type": "stream",
     "text": [
      "5\n"
     ]
    }
   ],
   "source": [
    "def flist(l):\n",
    "    print(len(l))\n",
    "flist([2,34,5,3,2])"
   ]
  },
  {
   "cell_type": "code",
   "execution_count": 17,
   "id": "24103c9a",
   "metadata": {},
   "outputs": [
    {
     "name": "stdout",
     "output_type": "stream",
     "text": [
      "4 753\n"
     ]
    }
   ],
   "source": [
    "#waf to find length of tuple and max of list\n",
    "def lenmax(tup,maxlist):\n",
    "    print(len(tup),max(maxlist))\n",
    "    \n",
    "lenmax((12,2,1,4),[23,55,666,753,43])"
   ]
  },
  {
   "cell_type": "code",
   "execution_count": 18,
   "id": "af4fe9b5",
   "metadata": {},
   "outputs": [],
   "source": [
    "#variable length argument"
   ]
  },
  {
   "cell_type": "code",
   "execution_count": 19,
   "id": "142a2148",
   "metadata": {},
   "outputs": [
    {
     "name": "stdout",
     "output_type": "stream",
     "text": [
      "12\n",
      "3\n",
      "42\n",
      "34\n"
     ]
    }
   ],
   "source": [
    "def add(*x):\n",
    "    for i in x:\n",
    "        print(i)\n",
    "add(12,3,42,34)"
   ]
  },
  {
   "cell_type": "code",
   "execution_count": 23,
   "id": "a8d42414",
   "metadata": {},
   "outputs": [
    {
     "name": "stdout",
     "output_type": "stream",
     "text": [
      "(12, 3, 42, 34)\n"
     ]
    }
   ],
   "source": [
    "def add(*x):\n",
    "        print(x)\n",
    "add(12,3,42,34)"
   ]
  },
  {
   "cell_type": "code",
   "execution_count": 35,
   "id": "497b97d9",
   "metadata": {},
   "outputs": [
    {
     "name": "stdout",
     "output_type": "stream",
     "text": [
      "91\n"
     ]
    }
   ],
   "source": [
    "# \"*\" is variable length tuple\n",
    "# \"**\" \n",
    "def summation(*x):\n",
    "    \n",
    "    sum=0\n",
    "    for i in x:\n",
    "        sum=sum+i\n",
    "    print(sum)\n",
    "summation(12,3,42,34)"
   ]
  },
  {
   "cell_type": "code",
   "execution_count": 36,
   "id": "51cdd269",
   "metadata": {},
   "outputs": [],
   "source": [
    "#default argument "
   ]
  },
  {
   "cell_type": "code",
   "execution_count": 38,
   "id": "98d1a1a5",
   "metadata": {},
   "outputs": [
    {
     "name": "stdout",
     "output_type": "stream",
     "text": [
      "22\n",
      "27\n"
     ]
    }
   ],
   "source": [
    "def ad(x,y=19):\n",
    "    print(x+y)\n",
    "ad(3)\n",
    "ad(y=23,x=4)"
   ]
  },
  {
   "cell_type": "code",
   "execution_count": 39,
   "id": "8c90f551",
   "metadata": {},
   "outputs": [],
   "source": [
    "#variable length key value pair\n"
   ]
  },
  {
   "cell_type": "code",
   "execution_count": 3,
   "id": "875d308c",
   "metadata": {},
   "outputs": [
    {
     "name": "stdout",
     "output_type": "stream",
     "text": [
      "hello\n",
      "hello\n"
     ]
    }
   ],
   "source": [
    "def addd(**x):\n",
    "    print(\"hello\")\n",
    "addd()\n",
    "addd(x=12,y=13,z=44)"
   ]
  },
  {
   "cell_type": "code",
   "execution_count": 25,
   "id": "c92d131c",
   "metadata": {},
   "outputs": [
    {
     "name": "stdout",
     "output_type": "stream",
     "text": [
      "dict_keys(['a', 'n', 'b'])\n",
      "dict_values([12, 3, 13])\n",
      "dict_items([('a', 12), ('n', 3), ('b', 13)])\n",
      "<class 'dict'>\n"
     ]
    }
   ],
   "source": [
    "def key(**x):\n",
    "    print(x.keys())\n",
    "    print(x.values())\n",
    "    print(x.items())\n",
    "    print(type(x))\n",
    "key(a=12,n=3,b=13)\n"
   ]
  },
  {
   "cell_type": "code",
   "execution_count": 41,
   "id": "9f388017",
   "metadata": {},
   "outputs": [
    {
     "name": "stdout",
     "output_type": "stream",
     "text": [
      "factorial of 34 is 295232799039604140847618609643520000000\n",
      "factorial of 4 is 24\n"
     ]
    }
   ],
   "source": [
    "def fact(n):\n",
    "    mul=1\n",
    "    for i in range(1,n+1):\n",
    "        mul=mul*i\n",
    "    print(\"factorial of\" , n,\"is\",mul)\n",
    "fact(34)\n",
    "fact(4)"
   ]
  },
  {
   "cell_type": "markdown",
   "id": "0b04c90a",
   "metadata": {},
   "source": [
    "# return statement"
   ]
  },
  {
   "cell_type": "code",
   "execution_count": 43,
   "id": "9b0e2a57",
   "metadata": {},
   "outputs": [
    {
     "data": {
      "text/plain": [
       "7"
      ]
     },
     "execution_count": 43,
     "metadata": {},
     "output_type": "execute_result"
    }
   ],
   "source": [
    "#after return statement rest of program does not get executed\n",
    "#return returns only single value(number)\n",
    "#return is only use in function\n",
    "\n",
    "\n",
    "def add(x,y):\n",
    "    return x+y\n",
    "add(3,4)"
   ]
  },
  {
   "cell_type": "code",
   "execution_count": 45,
   "id": "8d4dbc95",
   "metadata": {},
   "outputs": [
    {
     "name": "stdout",
     "output_type": "stream",
     "text": [
      "3\n"
     ]
    },
    {
     "data": {
      "text/plain": [
       "7"
      ]
     },
     "execution_count": 45,
     "metadata": {},
     "output_type": "execute_result"
    }
   ],
   "source": [
    "def add(x,y):\n",
    "    print(x)\n",
    "    return x+y\n",
    "    return x\n",
    "\n",
    "add(3,4)"
   ]
  },
  {
   "cell_type": "code",
   "execution_count": 62,
   "id": "af40b30e",
   "metadata": {},
   "outputs": [],
   "source": [
    "def add(x,y):\n",
    "    return x+y\n",
    "def sub(x,y):\n",
    "    return x-y\n",
    "def mul(x,y):\n",
    "    return x*y\n",
    "def div(x,y):\n",
    "    return x/y\n",
    "\n",
    "        "
   ]
  },
  {
   "cell_type": "code",
   "execution_count": 58,
   "id": "6d60e90b",
   "metadata": {},
   "outputs": [
    {
     "data": {
      "text/plain": [
       "'\\n    print(\"select the operation u want . 1.addition,\"\\n              \"2.substraction,3.multiplication ,4. division\")\\n    \\n    if type(a,b)==int:\\n        if choice in (\"1\",\"2\",\"3\",\"4\"):\\n            a=\\n        \\n            \\n            print(\"Addition is: \"add(a,b))\\n        \\n    '"
      ]
     },
     "execution_count": 58,
     "metadata": {},
     "output_type": "execute_result"
    }
   ],
   "source": [
    "'''\n",
    "    print(\"select the operation u want . 1.addition,\"\n",
    "              \"2.substraction,3.multiplication ,4. division\")\n",
    "    \n",
    "    if type(a,b)==int:\n",
    "        if choice in (\"1\",\"2\",\"3\",\"4\"):\n",
    "            a=\n",
    "        \n",
    "            \n",
    "            print(\"Addition is: \"add(a,b))\n",
    "        \n",
    "    '''\n"
   ]
  },
  {
   "cell_type": "code",
   "execution_count": 73,
   "id": "084a17fc",
   "metadata": {},
   "outputs": [
    {
     "name": "stdout",
     "output_type": "stream",
     "text": [
      "Welcome\n",
      "select the operation you want to perform \n",
      "\n",
      "        1.add\n",
      "        2.sub\n",
      "        3.mul\n",
      "        4.div\n",
      "        \n",
      "enter a choice: 2\n",
      "Substraction is 1\n"
     ]
    }
   ],
   "source": [
    "def calculator(x,y):\n",
    "    print(\"Welcome\")\n",
    "    \n",
    "    if type(x)==int and type(y)==int:\n",
    "        print(\"select the operation you want to perform \")\n",
    "        print('''\n",
    "        1.add\n",
    "        2.sub\n",
    "        3.mul\n",
    "        4.div\n",
    "        ''')\n",
    "        choice = int(input(\"enter a choice: \"))\n",
    "        \n",
    "        if choice in range(1,5):\n",
    "                if choice==1:\n",
    "                    print(\"addition is\",x+y)\n",
    "                elif choice==2:\n",
    "                    print(\"Substraction is\" ,x-y)\n",
    "                elif choice ==3:\n",
    "                    print(\"multiplication is\" ,x*y)\n",
    "                else:\n",
    "                    print(\"division is\",x/y)\n",
    "        else:\n",
    "            print(\"enter valid choice between(1 to 4)\")\n",
    "            \n",
    "    else:\n",
    "        print(\"invalid type\")\n",
    "\n",
    "        \n",
    "calculator(4,3)"
   ]
  },
  {
   "cell_type": "code",
   "execution_count": 60,
   "id": "9d3835dd",
   "metadata": {},
   "outputs": [
    {
     "name": "stdout",
     "output_type": "stream",
     "text": [
      "9\n"
     ]
    }
   ],
   "source": [
    "calculator(4,2)"
   ]
  },
  {
   "cell_type": "code",
   "execution_count": 83,
   "id": "a4b40b1a",
   "metadata": {},
   "outputs": [
    {
     "name": "stdout",
     "output_type": "stream",
     "text": [
      "Enter string: nitin\n",
      "nitin is a palindrome string\n"
     ]
    }
   ],
   "source": [
    "\n",
    "\n",
    "a=input(\"Enter string: \")\n",
    "if a[::1]==a[::-1]:\n",
    "    print(a, \"is a palindrome string\")\n",
    "else:\n",
    "    print(a, \"is not a palindrome string\")\n",
    "\n"
   ]
  },
  {
   "cell_type": "code",
   "execution_count": 5,
   "id": "f8898be8",
   "metadata": {},
   "outputs": [
    {
     "name": "stdout",
     "output_type": "stream",
     "text": [
      "irtayaG\n"
     ]
    }
   ],
   "source": [
    "a=\"Gayatri\"\n",
    "print(a[::-1])"
   ]
  },
  {
   "cell_type": "code",
   "execution_count": 84,
   "id": "61221bca",
   "metadata": {},
   "outputs": [
    {
     "name": "stdout",
     "output_type": "stream",
     "text": [
      "Enter string: nitin\n",
      "nitin is a palindrome string\n"
     ]
    }
   ],
   "source": [
    "#using function pallidrom program\n",
    "\n",
    "def rev():\n",
    "    a=input(\"Enter string: \")\n",
    "    if a[::1]==a[::-1]:\n",
    "        print(a, \"is a palindrome string\")\n",
    "    else:\n",
    "        print(a, \"is not a palindrome string\")\n",
    "rev()"
   ]
  },
  {
   "cell_type": "code",
   "execution_count": 87,
   "id": "b5c9d4e5",
   "metadata": {},
   "outputs": [
    {
     "name": "stdout",
     "output_type": "stream",
     "text": [
      "Enter string 1: mon\n",
      "Enter string 2: mon\n",
      "True\n"
     ]
    }
   ],
   "source": [
    "a=input(\"Enter string 1: \")\n",
    "b=input(\"Enter string 2: \")\n",
    "if a[0]==b[0]:\n",
    "    print(\"True\")\n",
    "else:\n",
    "    print(\"false\")"
   ]
  },
  {
   "cell_type": "code",
   "execution_count": 97,
   "id": "6b9a0b4d",
   "metadata": {},
   "outputs": [
    {
     "name": "stdout",
     "output_type": "stream",
     "text": [
      "Enter string of two name: hay bay\n",
      "false\n"
     ]
    }
   ],
   "source": [
    "def ab():\n",
    "    a=input(\"Enter string of two name: \")\n",
    "    l=a.split(\" \")\n",
    "    if l[0][0]==l[1][0]:\n",
    "        print(\"True\")\n",
    "    else:\n",
    "        print(\"false\")\n",
    "ab()\n",
    "    "
   ]
  },
  {
   "cell_type": "code",
   "execution_count": null,
   "id": "32202686",
   "metadata": {},
   "outputs": [],
   "source": []
  },
  {
   "cell_type": "code",
   "execution_count": 93,
   "id": "61359d08",
   "metadata": {},
   "outputs": [
    {
     "name": "stdout",
     "output_type": "stream",
     "text": [
      "Enter string of two name: hay jay\n",
      "['hay', 'jay']\n"
     ]
    }
   ],
   "source": [
    "a=input(\"Enter string of two name: \")\n",
    "l=a.split(\" \")\n",
    "print(l)"
   ]
  },
  {
   "cell_type": "code",
   "execution_count": null,
   "id": "7922548b",
   "metadata": {},
   "outputs": [],
   "source": [
    "a= input(\"enter a to z :\")\n"
   ]
  },
  {
   "cell_type": "raw",
   "id": "cb465deb",
   "metadata": {},
   "source": [
    "# 1.anonymous or lamba function -- no name-- : when u have to give \n",
    "    function as an argumant to another function. it is single line \n",
    "    function .execute fast\n",
    "2.Recurssive function : which calls itself"
   ]
  },
  {
   "cell_type": "markdown",
   "id": "49da441f",
   "metadata": {},
   "source": [
    "# lambda function"
   ]
  },
  {
   "cell_type": "code",
   "execution_count": 1,
   "id": "ba81582b",
   "metadata": {},
   "outputs": [
    {
     "name": "stdout",
     "output_type": "stream",
     "text": [
      "4\n"
     ]
    }
   ],
   "source": [
    "x=lambda i:i**2\n",
    "print(x(2))"
   ]
  },
  {
   "cell_type": "code",
   "execution_count": 2,
   "id": "0f52d15a",
   "metadata": {},
   "outputs": [
    {
     "data": {
      "text/plain": [
       "16"
      ]
     },
     "execution_count": 2,
     "metadata": {},
     "output_type": "execute_result"
    }
   ],
   "source": [
    "x(4)"
   ]
  },
  {
   "cell_type": "code",
   "execution_count": 7,
   "id": "d029c770",
   "metadata": {},
   "outputs": [
    {
     "name": "stdout",
     "output_type": "stream",
     "text": [
      "7\n"
     ]
    }
   ],
   "source": [
    "add=lambda x,y:x+y\n",
    "print(add(3,4))"
   ]
  },
  {
   "cell_type": "code",
   "execution_count": 8,
   "id": "1b9000a3",
   "metadata": {},
   "outputs": [
    {
     "name": "stdout",
     "output_type": "stream",
     "text": [
      "24\n"
     ]
    }
   ],
   "source": [
    "mul=lambda a,b,c:a*b*c\n",
    "print(mul(2,3,4))"
   ]
  },
  {
   "cell_type": "code",
   "execution_count": 13,
   "id": "43a0f567",
   "metadata": {},
   "outputs": [
    {
     "name": "stdout",
     "output_type": "stream",
     "text": [
      "27\n"
     ]
    }
   ],
   "source": [
    "cube=lambda c:c**3\n",
    "print(cube(3))"
   ]
  },
  {
   "cell_type": "markdown",
   "id": "3b2b8055",
   "metadata": {},
   "source": []
  },
  {
   "cell_type": "code",
   "execution_count": 15,
   "id": "e265d3bc",
   "metadata": {
    "scrolled": true
   },
   "outputs": [
    {
     "name": "stdout",
     "output_type": "stream",
     "text": [
      "True\n"
     ]
    }
   ],
   "source": [
    "g=lambda a:a>100\n",
    "print(g(102))"
   ]
  },
  {
   "cell_type": "code",
   "execution_count": 16,
   "id": "284c6e04",
   "metadata": {},
   "outputs": [
    {
     "name": "stdout",
     "output_type": "stream",
     "text": [
      "4\n"
     ]
    }
   ],
   "source": [
    "leng=lambda i:len(i)\n",
    "print(leng(\"gayu\"))"
   ]
  },
  {
   "cell_type": "code",
   "execution_count": 17,
   "id": "fa4259bd",
   "metadata": {},
   "outputs": [
    {
     "name": "stdout",
     "output_type": "stream",
     "text": [
      "True\n"
     ]
    }
   ],
   "source": [
    "even=lambda a:a%2==0\n",
    "print(even(4))"
   ]
  },
  {
   "cell_type": "raw",
   "id": "7a2ae4ea",
   "metadata": {},
   "source": [
    "lambda function use for\n",
    "1.filter\n",
    "2.map\n"
   ]
  },
  {
   "cell_type": "code",
   "execution_count": 18,
   "id": "dcdd5679",
   "metadata": {},
   "outputs": [
    {
     "name": "stdout",
     "output_type": "stream",
     "text": [
      "[2, 3, 2]\n"
     ]
    }
   ],
   "source": [
    "l=[-1,2,3,-44,2]\n",
    "positive=list(filter(lambda x:x>0,l))\n",
    "print(positive)"
   ]
  },
  {
   "cell_type": "code",
   "execution_count": 19,
   "id": "c976ed21",
   "metadata": {},
   "outputs": [],
   "source": [
    "a=[12,34,21,11,22]\n",
    "b=[\"a\",\"b\",5,6,4,\"c\"]"
   ]
  },
  {
   "cell_type": "code",
   "execution_count": 21,
   "id": "7f8e468b",
   "metadata": {},
   "outputs": [
    {
     "name": "stdout",
     "output_type": "stream",
     "text": [
      "[12, 34, 22]\n",
      "[21, 11]\n"
     ]
    }
   ],
   "source": [
    "eo=list(filter(lambda x:x%2==0,a))\n",
    "odd=list(filter(lambda x:x%2!=0,a))\n",
    "print(eo)\n",
    "print(odd)"
   ]
  },
  {
   "cell_type": "code",
   "execution_count": 27,
   "id": "530551d0",
   "metadata": {},
   "outputs": [
    {
     "name": "stdout",
     "output_type": "stream",
     "text": [
      "['a', 'b', 'c']\n",
      "[5, 6, 4]\n"
     ]
    }
   ],
   "source": [
    "string=list(filter(lambda x:type(x)==str,b))\n",
    "print(string)\n",
    "integer=list(filter(lambda x:type(x)==int,b))\n",
    "print(integer)"
   ]
  },
  {
   "cell_type": "code",
   "execution_count": 9,
   "id": "faa23ae7",
   "metadata": {},
   "outputs": [
    {
     "name": "stdout",
     "output_type": "stream",
     "text": [
      "{10: 3, 20: 2, 30: 1}\n"
     ]
    }
   ],
   "source": [
    "l=[10,10,10,20,20,30]\n",
    "#o/p {10:3,20:2,30:1}\n",
    "d={}\n",
    "output={element: l.count(element) for element in set(l)}\n",
    "print(output)"
   ]
  },
  {
   "cell_type": "markdown",
   "id": "1b5a7890",
   "metadata": {},
   "source": [
    "# Exception handling"
   ]
  },
  {
   "cell_type": "code",
   "execution_count": 10,
   "id": "e194c674",
   "metadata": {},
   "outputs": [
    {
     "name": "stdout",
     "output_type": "stream",
     "text": [
      "enter first number : 6\n",
      "enter second number : 7\n",
      "0.8571428571428571\n"
     ]
    }
   ],
   "source": [
    "a=int(input(\"enter first number : \"))\n",
    "b=int(input(\"enter second number : \"))\n",
    "c=a/b\n",
    "print(c)"
   ]
  },
  {
   "cell_type": "raw",
   "id": "ad5ce24c",
   "metadata": {},
   "source": [
    "value error:\n",
    "zerodivisionerror:\n"
   ]
  },
  {
   "cell_type": "raw",
   "id": "5f3bac83",
   "metadata": {},
   "source": [
    "execption is only use in runtime error\n",
    "When you try to handle error i runtime is known as exception handling"
   ]
  },
  {
   "cell_type": "code",
   "execution_count": 15,
   "id": "dfb0b901",
   "metadata": {},
   "outputs": [
    {
     "name": "stdout",
     "output_type": "stream",
     "text": [
      "enter first number : sux\n",
      "please enter integer number!!!\n"
     ]
    }
   ],
   "source": [
    "try:\n",
    "    a=int(input(\"enter first number : \"))\n",
    "    b=int(input(\"enter second number : \"))\n",
    "    c=a/b\n",
    "    print(c)\n",
    "except ValueError:\n",
    "    print(\"please enter integer number!!!\")\n",
    "except ZeroDivisionError:\n",
    "    print(\"Please enter another number except 0 !!\")"
   ]
  },
  {
   "cell_type": "markdown",
   "id": "1994a500",
   "metadata": {},
   "source": [
    "# scope of variable"
   ]
  },
  {
   "cell_type": "markdown",
   "id": "b4197c81",
   "metadata": {},
   "source": [
    "## global scope"
   ]
  },
  {
   "cell_type": "code",
   "execution_count": 17,
   "id": "e51cabeb",
   "metadata": {},
   "outputs": [
    {
     "name": "stdout",
     "output_type": "stream",
     "text": [
      "20\n"
     ]
    }
   ],
   "source": [
    "x=20\n",
    "def abc():\n",
    "    print(x)\n",
    "abc()"
   ]
  },
  {
   "cell_type": "markdown",
   "id": "89f6bb92",
   "metadata": {},
   "source": [
    "## local scope"
   ]
  },
  {
   "cell_type": "code",
   "execution_count": 19,
   "id": "338a1214",
   "metadata": {},
   "outputs": [
    {
     "name": "stdout",
     "output_type": "stream",
     "text": [
      "20\n"
     ]
    },
    {
     "ename": "NameError",
     "evalue": "name 'y' is not defined",
     "output_type": "error",
     "traceback": [
      "\u001b[1;31m---------------------------------------------------------------------------\u001b[0m",
      "\u001b[1;31mNameError\u001b[0m                                 Traceback (most recent call last)",
      "Cell \u001b[1;32mIn[19], line 5\u001b[0m\n\u001b[0;32m      3\u001b[0m     \u001b[38;5;28mprint\u001b[39m(y)\n\u001b[0;32m      4\u001b[0m xyz()\n\u001b[1;32m----> 5\u001b[0m \u001b[38;5;28mprint\u001b[39m(y)\n",
      "\u001b[1;31mNameError\u001b[0m: name 'y' is not defined"
     ]
    }
   ],
   "source": [
    "def xyz():\n",
    "    y=20\n",
    "    print(y)\n",
    "xyz()\n",
    "print(y)   "
   ]
  },
  {
   "cell_type": "code",
   "execution_count": null,
   "id": "8f9a585c",
   "metadata": {},
   "outputs": [],
   "source": [
    "Above error we are getting because the variable cannot call out of the local scope "
   ]
  }
 ],
 "metadata": {
  "kernelspec": {
   "display_name": "Python 3 (ipykernel)",
   "language": "python",
   "name": "python3"
  },
  "language_info": {
   "codemirror_mode": {
    "name": "ipython",
    "version": 3
   },
   "file_extension": ".py",
   "mimetype": "text/x-python",
   "name": "python",
   "nbconvert_exporter": "python",
   "pygments_lexer": "ipython3",
   "version": "3.11.5"
  }
 },
 "nbformat": 4,
 "nbformat_minor": 5
}
